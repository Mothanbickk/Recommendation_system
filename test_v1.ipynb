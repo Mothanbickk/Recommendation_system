{
 "cells": [
  {
   "cell_type": "markdown",
   "metadata": {},
   "source": [
    "### Ниже код показывающий именно similar_users"
   ]
  },
  {
   "cell_type": "code",
   "execution_count": 21,
   "metadata": {},
   "outputs": [],
   "source": [
    "import pandas as pd\n",
    "from sklearn.metrics.pairwise import cosine_similarity\n",
    "import pickle\n",
    "\n",
    "def generate_user_recommendations(ratings_file, user_id, n_users=20):\n",
    "    # Read in ratings data from file\n",
    "    ratings = pd.read_csv(ratings_file)\n",
    "\n",
    "    # Calculate the mean rating for each user\n",
    "    user_means = ratings.groupby('user_id')['rating'].mean()\n",
    "\n",
    "    # Center the ratings by subtracting the mean rating for each user\n",
    "    ratings['rating_centered'] = ratings['rating'] - ratings['user_id'].map(user_means)\n",
    "\n",
    "    # Pivot the ratings data to create a user-item matrix\n",
    "    user_item_matrix = ratings.pivot(index='user_id', columns='item_id', values='rating_centered').fillna(0)\n",
    "\n",
    "    # Calculate cosine similarity between users\n",
    "    user_similarities = cosine_similarity(user_item_matrix)\n",
    "\n",
    "     # Find the most similar users to the given user (excluding the user itself)\n",
    "    similar_users = user_similarities[user_id-1].argsort()[::-1][1:n_users+1]\n",
    "    \n",
    "    # Get the similarity scores for the similar users\n",
    "    similarity_scores = user_similarities[user_id-1][similar_users]\n",
    "    \n",
    "    with open('recomendation_system.pkl', 'wb') as f:\n",
    "        pickle.dump(user_similarities, f)\n",
    "\n",
    "    return similar_users+1, similarity_scores\n",
    "\n"
   ]
  },
  {
   "cell_type": "code",
   "execution_count": 20,
   "metadata": {},
   "outputs": [
    {
     "name": "stdout",
     "output_type": "stream",
     "text": [
      "Similar users:  [21 17 20  3  4]\n",
      "Similarity scores:  [0.71659187 0.69985421 0.65332172 0.60665588 0.55487095]\n"
     ]
    }
   ],
   "source": [
    "# Call the function to get the most similar users to user 1 (excluding user 1 itself)\n",
    "similar_users, similarity_scores = generate_user_recommendations(\"C:/1.csv\", 7, n_users=5)\n",
    "print(\"Similar users: \", similar_users)\n",
    "print(\"Similarity scores: \", similarity_scores)"
   ]
  },
  {
   "cell_type": "code",
   "execution_count": 22,
   "metadata": {},
   "outputs": [
    {
     "name": "stdout",
     "output_type": "stream",
     "text": [
      "user_id\n",
      "1    2.875000\n",
      "2    2.562500\n",
      "3    2.733333\n",
      "4    2.600000\n",
      "5    2.600000\n",
      "Name: rating, dtype: float64\n",
      "item_id      1         2         3         4       5         6         7   \\\n",
      "user_id                                                                     \n",
      "1        2.1250  0.125000  0.000000  1.125000 -1.8750  0.000000  1.125000   \n",
      "2        0.4375  0.000000  1.437500  0.000000 -1.5625  0.437500  0.000000   \n",
      "3        0.0000 -0.733333  0.266667  1.266667  0.0000 -0.733333  0.266667   \n",
      "4        1.4000  0.400000 -0.600000 -1.600000  1.4000  0.400000 -0.600000   \n",
      "5       -0.6000  0.400000  1.400000 -1.600000  0.4000 -0.600000  1.400000   \n",
      "\n",
      "item_id        8         9         10      11        12        13      14  \\\n",
      "user_id                                                                     \n",
      "1       -0.875000  1.125000  0.125000 -0.8750  0.000000  1.125000 -1.8750   \n",
      "2       -0.562500  0.437500  1.437500 -1.5625 -0.562500  0.000000  0.4375   \n",
      "3        1.266667 -1.733333 -0.733333  0.0000  1.266667  0.266667  0.0000   \n",
      "4        1.400000  0.400000 -1.600000  1.4000 -0.600000  0.400000 -1.6000   \n",
      "5       -1.600000 -0.600000  0.400000  0.0000  1.400000 -1.600000 -0.6000   \n",
      "\n",
      "item_id        15        16        17        18      19        20  \n",
      "user_id                                                            \n",
      "1        0.000000 -0.875000  1.125000  0.125000  0.1250 -1.875000  \n",
      "2        1.437500 -1.562500 -0.562500  0.437500  0.4375 -0.562500  \n",
      "3       -1.733333  1.266667 -0.733333  0.266667  0.0000  0.266667  \n",
      "4       -0.600000  0.000000  0.000000  0.000000  0.0000  0.000000  \n",
      "5        1.400000  0.400000  0.000000  0.000000  0.0000  0.000000  \n",
      "[[ 1.          0.38388931 -0.19204292 -0.04035207 -0.11983342]\n",
      " [ 0.38388931  1.         -0.47102804 -0.51274368  0.1440459 ]\n",
      " [-0.19204292 -0.47102804  1.         -0.01809367 -0.18422647]\n",
      " [-0.04035207 -0.51274368 -0.01809367  1.         -0.225     ]\n",
      " [-0.11983342  0.1440459  -0.18422647 -0.225       1.        ]]\n",
      "Similar users:  [1 5 3 4]\n",
      "Similarity scores:  [ 0.38388931  0.1440459  -0.47102804 -0.51274368]\n"
     ]
    }
   ],
   "source": [
    "import pandas as pd\n",
    "from sklearn.metrics.pairwise import cosine_similarity\n",
    "\n",
    "# Read in ratings data from file\n",
    "ratings = pd.read_csv(\"C:/ratings.csv\")\n",
    "\n",
    "# Calculate the mean rating for each user\n",
    "user_means = ratings.groupby('user_id')['rating'].mean()\n",
    "print(user_means)\n",
    "\n",
    "# Center the ratings by subtracting the mean rating for each user\n",
    "ratings['rating_centered'] = ratings['rating'] - ratings['user_id'].map(user_means)\n",
    "\n",
    "# Pivot the ratings data to create a user-item matrix\n",
    "user_item_matrix = ratings.pivot(index='user_id', columns='item_id', values='rating_centered').fillna(0)\n",
    "print(user_item_matrix)\n",
    "\n",
    "# Calculate cosine similarity between users\n",
    "user_similarities = cosine_similarity(user_item_matrix)\n",
    "print(user_similarities)\n",
    "\n",
    "def get_most_similar_users(user_id, n_users=5):\n",
    "    # Calculate cosine similarity between users\n",
    "    user_similarities = cosine_similarity(user_item_matrix)\n",
    "\n",
    "    # Find the most similar users to the given user (excluding the user itself)\n",
    "    similar_users = user_similarities[user_id-1].argsort()[::-1][1:n_users+1]\n",
    "    \n",
    "    # Get the similarity scores for the similar users\n",
    "    similarity_scores = user_similarities[user_id-1][similar_users]\n",
    "\n",
    "    return similar_users+1, similarity_scores\n",
    "\n",
    "# Call the function to get the most similar users to user 1 (excluding user 1 itself)\n",
    "similar_users, similarity_scores = get_most_similar_users(2, n_users=5)\n",
    "\n",
    "# Print the indices and similarity scores of the most similar users\n",
    "print(\"Similar users: \", similar_users)\n",
    "print(\"Similarity scores: \", similarity_scores)"
   ]
  },
  {
   "cell_type": "code",
   "execution_count": null,
   "metadata": {},
   "outputs": [],
   "source": []
  }
 ],
 "metadata": {
  "kernelspec": {
   "display_name": "Python 3",
   "language": "python",
   "name": "python3"
  },
  "language_info": {
   "codemirror_mode": {
    "name": "ipython",
    "version": 3
   },
   "file_extension": ".py",
   "mimetype": "text/x-python",
   "name": "python",
   "nbconvert_exporter": "python",
   "pygments_lexer": "ipython3",
   "version": "3.6.6"
  }
 },
 "nbformat": 4,
 "nbformat_minor": 2
}
